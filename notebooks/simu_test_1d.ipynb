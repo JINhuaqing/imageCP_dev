{
 "cells": [
  {
   "cell_type": "code",
   "execution_count": 1,
   "metadata": {},
   "outputs": [],
   "source": [
    "# Generate simulation data"
   ]
  },
  {
   "cell_type": "code",
   "execution_count": 5,
   "metadata": {},
   "outputs": [],
   "source": [
    "import sys\n",
    "sys.path.append(\"./mypkg\")\n",
    "from constants import RES_ROOT, FIG_ROOT, DATA_ROOT"
   ]
  },
  {
   "cell_type": "code",
   "execution_count": 6,
   "metadata": {},
   "outputs": [],
   "source": [
    "%load_ext autoreload\n",
    "%autoreload 2\n",
    "# 0,1, 2, 3, be careful about the space"
   ]
  },
  {
   "cell_type": "code",
   "execution_count": 7,
   "metadata": {},
   "outputs": [],
   "source": [
    "import matplotlib.pyplot as plt\n",
    "import seaborn as sns"
   ]
  },
  {
   "cell_type": "code",
   "execution_count": 8,
   "metadata": {},
   "outputs": [],
   "source": [
    "import numpy as np\n",
    "import numpy.random as npr\n",
    "from data_gen import MyDataGen\n",
    "from sklearn.ensemble import RandomForestRegressor\n",
    "from sklearn.multioutput import MultiOutputRegressor\n",
    "from sklearn.linear_model import LinearRegression\n",
    "from sklearn.svm import SVR\n",
    "from sklearn.neural_network import MLPRegressor\n",
    "from tqdm import tqdm\n",
    "\n",
    "\n",
    "from cp_predict import CPNaive, CPSimple, CPSimple1"
   ]
  },
  {
   "cell_type": "code",
   "execution_count": 12,
   "metadata": {},
   "outputs": [
    {
     "data": {
      "text/plain": [
       "0.2"
      ]
     },
     "execution_count": 12,
     "metadata": {},
     "output_type": "execute_result"
    }
   ],
   "source": [
    "xysize = (10, 1)\n",
    "A = npr.randn(*xysize).T;\n",
    "ntrain = 1000;\n",
    "ntest = 10000;\n",
    "noise_std = 1\n",
    "model_type = \"SVR\"\n",
    "verbose = 2\n",
    "alpha = 0.2"
   ]
  },
  {
   "cell_type": "code",
   "execution_count": 13,
   "metadata": {},
   "outputs": [],
   "source": [
    "def _get_model(typ=\"SVR\"):\n",
    "    if typ == \"SVR\":\n",
    "        return SVR(kernel=\"rbf\")\n",
    "    elif typ == \"MLP\":\n",
    "        return MLPRegressor(hidden_layer_sizes=(100,), max_iter=1000)\n",
    "\n",
    "\n",
    "def _gen_data(ntrain, seed):\n",
    "    A = npr.randn(*xysize).T;\n",
    "    datagen = MyDataGen(xysize=xysize, A=A);\n",
    "    np.random.seed(seed)\n",
    "    seeds = npr.randint(0, 1000000, 2)    \n",
    "    Xtrain, Ytrain = datagen(n=ntrain, noise_std=noise_std, seed=seeds[0]);\n",
    "    Xtest, Ytest = datagen(n=10000, noise_std=noise_std, seed=seeds[1]);\n",
    "    return Xtrain, Ytrain, Xtest, Ytest"
   ]
  },
  {
   "cell_type": "code",
   "execution_count": null,
   "metadata": {},
   "outputs": [],
   "source": []
  },
  {
   "cell_type": "code",
   "execution_count": 14,
   "metadata": {},
   "outputs": [
    {
     "name": "stderr",
     "output_type": "stream",
     "text": [
      "/home/hujin/jin/conda/envs/imageCP/lib/python3.9/site-packages/sklearn/neural_network/_multilayer_perceptron.py:691: ConvergenceWarning: Stochastic Optimizer: Maximum iterations (1000) reached and the optimization hasn't converged yet.\n",
      "  warnings.warn(\n"
     ]
    }
   ],
   "source": [
    "seed = 0\n",
    "Xtrain, Ytrain, Xtest, Ytest = _gen_data(ntrain, seed)\n",
    "fmodel = _get_model(typ=\"MLP\")\n",
    "fmodel.fit(Xtrain, Ytrain); \n",
    "gmodel = _get_model(typ=model_type)\n",
    "gmodel.fit(Xtrain, Ytrain**2);\n",
    "\n",
    "cur_ys_train, cur_fs_train, cur_gs_train = Ytrain, fmodel.predict(Xtrain), gmodel.predict(Xtrain)\n",
    "cur_ys_test, cur_fs_test, cur_gs_test = Ytest, fmodel.predict(Xtest), gmodel.predict(Xtest)"
   ]
  },
  {
   "cell_type": "code",
   "execution_count": 20,
   "metadata": {},
   "outputs": [
    {
     "data": {
      "text/plain": [
       "(10, 2, 1)"
      ]
     },
     "execution_count": 20,
     "metadata": {},
     "output_type": "execute_result"
    }
   ],
   "source": [
    "x = np.random.randn(10, 1, 2, 1)\n",
    "x.squeeze(1).shape"
   ]
  },
  {
   "cell_type": "code",
   "execution_count": 4,
   "metadata": {},
   "outputs": [
    {
     "ename": "NameError",
     "evalue": "name 'CPSimple' is not defined",
     "output_type": "error",
     "traceback": [
      "\u001b[0;31m---------------------------------------------------------------------------\u001b[0m",
      "\u001b[0;31mNameError\u001b[0m                                 Traceback (most recent call last)",
      "Cell \u001b[0;32mIn[4], line 1\u001b[0m\n\u001b[0;32m----> 1\u001b[0m cpfit \u001b[38;5;241m=\u001b[39m \u001b[43mCPSimple\u001b[49m(cur_ys_train, cur_fs_train, cur_gs_train, \n\u001b[1;32m      2\u001b[0m                  kernel_fn\u001b[38;5;241m=\u001b[39m\u001b[38;5;28;01mNone\u001b[39;00m, \n\u001b[1;32m      3\u001b[0m                  M\u001b[38;5;241m=\u001b[39m\u001b[38;5;28;01mNone\u001b[39;00m,\n\u001b[1;32m      4\u001b[0m                  verbose\u001b[38;5;241m=\u001b[39mverbose)\n",
      "\u001b[0;31mNameError\u001b[0m: name 'CPSimple' is not defined"
     ]
    }
   ],
   "source": [
    "cpfit = CPSimple(cur_ys_train, cur_fs_train, cur_gs_train, \n",
    "                 kernel_fn=None, \n",
    "                 M=None,\n",
    "                 verbose=verbose)"
   ]
  },
  {
   "cell_type": "code",
   "execution_count": 21,
   "metadata": {},
   "outputs": [
    {
     "data": {
      "text/plain": [
       "array([[ 1.39906403,  3.29640972],\n",
       "       [ 0.1601075 , -3.45442751],\n",
       "       [ 1.24167078, -1.5702444 ],\n",
       "       ...,\n",
       "       [ 1.22209564,  2.83464971],\n",
       "       [-0.50548442, -0.56013241],\n",
       "       [ 1.69865581, -1.03053814]])"
      ]
     },
     "execution_count": 21,
     "metadata": {},
     "output_type": "execute_result"
    }
   ],
   "source": [
    "cpfit.gs - cpfit.fs**2"
   ]
  },
  {
   "cell_type": "code",
   "execution_count": 20,
   "metadata": {},
   "outputs": [
    {
     "data": {
      "text/plain": [
       "array([0.51176638, 0.54450189])"
      ]
     },
     "execution_count": 20,
     "metadata": {},
     "output_type": "execute_result"
    }
   ],
   "source": [
    "cpfit.M"
   ]
  },
  {
   "cell_type": "code",
   "execution_count": 19,
   "metadata": {},
   "outputs": [],
   "source": [
    "hfct = 2e-3\n",
    "cpfit = CPSimple(cur_ys_train, cur_fs_train, cur_gs_train, \n",
    "                 kernel_fn=None, \n",
    "                 M=None,\n",
    "                 verbose=verbose)\n",
    "cpfit_naive = CPNaive(cur_ys_train, cur_fs_train, cur_gs_train, \n",
    "                      kernel_fn=None, \n",
    "                      M = None,\n",
    "                      verbose=verbose)\n",
    "cpfit_naive.fit(alpha=alpha)\n",
    "h = CPSimple1.get_base_h(hfct, cpfit, eps_naive=cpfit_naive.eps, alpha=alpha)\n",
    "cpfit.fit(alpha=alpha, h=h, opt_params={\"bds\": (0.01, 1000)})\n",
    "_, in_sets = cpfit.predict(cur_fs_test, cur_ys_test);"
   ]
  },
  {
   "cell_type": "code",
   "execution_count": 10,
   "metadata": {},
   "outputs": [
    {
     "name": "stderr",
     "output_type": "stream",
     "text": [
      "/home/hujin/jin/conda/envs/imageCP/lib/python3.9/site-packages/sklearn/neural_network/_multilayer_perceptron.py:691: ConvergenceWarning: Stochastic Optimizer: Maximum iterations (1000) reached and the optimization hasn't converged yet.\n",
      "  warnings.warn(\n",
      "/home/hujin/jin/conda/envs/imageCP/lib/python3.9/site-packages/sklearn/neural_network/_multilayer_perceptron.py:691: ConvergenceWarning: Stochastic Optimizer: Maximum iterations (1000) reached and the optimization hasn't converged yet.\n",
      "  warnings.warn(\n"
     ]
    }
   ],
   "source": [
    "split_ratio = 0.5\n",
    "tr_idxs = np.sort(npr.choice(ntrain, int(ntrain*split_ratio), replace=False))\n",
    "Xtrain1, Ytrain1 = Xtrain[tr_idxs], Ytrain[tr_idxs]\n",
    "Xtrain2, Ytrain2 = np.delete(Xtrain, tr_idxs, axis=0), np.delete(Ytrain, tr_idxs, axis=0)\n",
    "fmodel1 = _get_model(typ=\"SVR\")\n",
    "fmodel1.fit(Xtrain1, Ytrain1); \n",
    "gmodel1 = _get_model(typ=model_type)\n",
    "gmodel1.fit(Xtrain1, Ytrain1**2);\n",
    "cur_ys_train2, cur_fs_train2, cur_gs_train2 = Ytrain2, fmodel1.predict(Xtrain2), gmodel1.predict(Xtrain2)\n",
    "cur_ys_test_naive, cur_fs_test_naive, _ = Ytest, fmodel1.predict(Xtest), gmodel1.predict(Xtest)\n",
    "\n",
    "cpfit_naive = CPNaive(cur_ys_train2, cur_fs_train2, cur_gs_train2, \n",
    "                      kernel_fn=None, \n",
    "                      M=None,\n",
    "                      verbose=verbose)\n",
    "cpfit_naive.fit(alpha=alpha)\n",
    "_, in_sets_naive = cpfit_naive.predict(cur_fs_test_naive, cur_ys_test_naive)"
   ]
  },
  {
   "cell_type": "code",
   "execution_count": 11,
   "metadata": {},
   "outputs": [
    {
     "name": "stdout",
     "output_type": "stream",
     "text": [
      "1.6878179434818745 1.6930073503734653\n",
      "0.6691 0.7801\n"
     ]
    }
   ],
   "source": [
    "print(cpfit.eps, cpfit_naive.eps)\n",
    "print(in_sets.mean(), in_sets_naive.mean())"
   ]
  },
  {
   "cell_type": "code",
   "execution_count": 12,
   "metadata": {},
   "outputs": [],
   "source": [
    "epss = np.logspace(-4, 3, 50)\n",
    "vs = []\n",
    "for eps in epss: \n",
    "    v = cpfit._phi_fn(eps, alpha=alpha, h=1).mean()\n",
    "    vs.append(v)\n"
   ]
  },
  {
   "cell_type": "code",
   "execution_count": 13,
   "metadata": {},
   "outputs": [
    {
     "name": "stderr",
     "output_type": "stream",
     "text": [
      "100%|█████████████████████████████████████████████████████████████████████████| 500/500 [00:03<00:00, 151.83it/s]\n"
     ]
    }
   ],
   "source": [
    "hs = np.logspace(-5, 3, 500)\n",
    "epss = []\n",
    "covprobs = []\n",
    "for h in tqdm(hs):\n",
    "    cpfit.fit(alpha=alpha, h=h, opt_params={\"bds\": (0.01, 1000)})\n",
    "    Rs_test, in_sets = cpfit.predict(cur_fs_test, cur_ys_test);\n",
    "    epss.append(cpfit.eps)\n",
    "    covprobs.append(in_sets.mean())"
   ]
  },
  {
   "cell_type": "code",
   "execution_count": 14,
   "metadata": {},
   "outputs": [
    {
     "data": {
      "image/png": "[encoded data removed]",
      "text/plain": [
       "<Figure size 640x480 with 1 Axes>"
      ]
     },
     "metadata": {},
     "output_type": "display_data"
    }
   ],
   "source": [
    "plt.plot(hs, covprobs)\n",
    "plt.axhline(y=1-alpha, color=\"red\")\n",
    "plt.xscale(\"log\")"
   ]
  },
  {
   "cell_type": "code",
   "execution_count": 15,
   "metadata": {},
   "outputs": [
    {
     "data": {
      "image/png": "[encoded data removed]",
      "text/plain": [
       "<Figure size 640x480 with 1 Axes>"
      ]
     },
     "metadata": {},
     "output_type": "display_data"
    }
   ],
   "source": [
    "plt.plot(hs, epss)\n",
    "plt.xscale(\"log\")"
   ]
  },
  {
   "cell_type": "code",
   "execution_count": null,
   "metadata": {},
   "outputs": [],
   "source": []
  }
 ],
 "metadata": {
  "kernelspec": {
   "display_name": "Python 3 (ipykernel)",
   "language": "python",
   "name": "python3"
  }
 },
 "nbformat": 4,
 "nbformat_minor": 2
}
