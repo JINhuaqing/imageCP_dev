{
 "cells": [
  {
   "cell_type": "code",
   "execution_count": 1,
   "metadata": {},
   "outputs": [],
   "source": [
    "# Generate simulation data"
   ]
  },
  {
   "cell_type": "code",
   "execution_count": 2,
   "metadata": {},
   "outputs": [],
   "source": [
    "import sys\n",
    "sys.path.append(\"./mypkg\")\n",
    "from constants import RES_ROOT, FIG_ROOT, DATA_ROOT"
   ]
  },
  {
   "cell_type": "code",
   "execution_count": 3,
   "metadata": {},
   "outputs": [],
   "source": [
    "%load_ext autoreload\n",
    "%autoreload 2\n",
    "# 0,1, 2, 3, be careful about the space"
   ]
  },
  {
   "cell_type": "code",
   "execution_count": 4,
   "metadata": {},
   "outputs": [],
   "source": [
    "import matplotlib.pyplot as plt\n",
    "import seaborn as sns"
   ]
  },
  {
   "cell_type": "code",
   "execution_count": 6,
   "metadata": {},
   "outputs": [],
   "source": [
    "import numpy as np\n",
    "import numpy.random as npr\n",
    "from data_gen import MyDataGen\n",
    "from sklearn.ensemble import RandomForestRegressor\n",
    "from sklearn.multioutput import MultiOutputRegressor\n",
    "from sklearn.linear_model import LinearRegression\n",
    "from sklearn.svm import SVR\n",
    "from sklearn.neural_network import MLPRegressor\n",
    "from tqdm import tqdm\n",
    "\n",
    "\n",
    "from cp_predict import CPNaive, CPSimple, CPSimple1"
   ]
  },
  {
   "cell_type": "code",
   "execution_count": 23,
   "metadata": {},
   "outputs": [
    {
     "data": {
      "text/plain": [
       "0.2"
      ]
     },
     "execution_count": 23,
     "metadata": {},
     "output_type": "execute_result"
    }
   ],
   "source": [
    "xysize = (10, 2)\n",
    "A = npr.randn(*xysize).T;\n",
    "ntrain = 100;\n",
    "ntest = 10000;\n",
    "noise_std = 1\n",
    "model_type = \"MLP\"\n",
    "verbose = 2\n",
    "alpha = 0.2"
   ]
  },
  {
   "cell_type": "code",
   "execution_count": 24,
   "metadata": {},
   "outputs": [],
   "source": [
    "def _get_model(typ=\"SVR\"):\n",
    "    if typ == \"SVR\":\n",
    "        return MultiOutputRegressor(SVR(kernel=\"rbf\"))\n",
    "    elif typ == \"MLP\":\n",
    "        return MultiOutputRegressor(MLPRegressor(hidden_layer_sizes=(100,), max_iter=1000))\n",
    "    elif typ == \"LIN\":\n",
    "        return MultiOutputRegressor(LinearRegression())\n",
    "\n",
    "\n",
    "def _gen_data(ntrain, seed):\n",
    "    A = npr.randn(*xysize).T;\n",
    "    datagen = MyDataGen(xysize=xysize, A=A);\n",
    "    np.random.seed(seed)\n",
    "    seeds = npr.randint(0, 1000000, 2)    \n",
    "    Xtrain, Ytrain = datagen(n=ntrain, noise_std=noise_std, seed=seeds[0]);\n",
    "    Xtest, Ytest = datagen(n=10000, noise_std=noise_std, seed=seeds[1]);\n",
    "    return Xtrain, Ytrain, Xtest, Ytest, A"
   ]
  },
  {
   "cell_type": "code",
   "execution_count": 25,
   "metadata": {},
   "outputs": [],
   "source": [
    "def _get_gs(X, A, noise_std):\n",
    "    return (X @ A.T)**2 +  noise_std**2\n",
    "def _get_fs(X, A):\n",
    "    return X @ A.T\n",
    "X, Y, Xt, Yt, A = _gen_data(ntrain, 0);\n",
    "fs, gs = _get_fs(X, A), _get_gs(X, A, noise_std)\n",
    "fts, gts = _get_fs(Xt, A), _get_gs(Xt, A, noise_std);\n"
   ]
  },
  {
   "cell_type": "code",
   "execution_count": 47,
   "metadata": {},
   "outputs": [],
   "source": [
    "cpfit = CPSimple1(Y, fs, gs);"
   ]
  },
  {
   "cell_type": "code",
   "execution_count": 50,
   "metadata": {},
   "outputs": [],
   "source": [
    "cpfit.fit(0.2, h=1, opt_params={\"bds\": [1e-4, 1000]})"
   ]
  },
  {
   "cell_type": "code",
   "execution_count": 46,
   "metadata": {},
   "outputs": [
    {
     "name": "stderr",
     "output_type": "stream",
     "text": [
      "2024-07-25 17:15:52,783 - cp_predict.cp_simple - WARNING -  cp_simple.py:203 - bds[0] is adjusted to 0.0004.\n"
     ]
    },
    {
     "data": {
      "text/plain": [
       "1.781761108391048"
      ]
     },
     "execution_count": 46,
     "metadata": {},
     "output_type": "execute_result"
    }
   ],
   "source": [
    "cpfit.fit_root(0.2, h=10, opt_params={\"bds\": [1e-4, 1000]})\n",
    "cpfit.eps"
   ]
  },
  {
   "cell_type": "code",
   "execution_count": 37,
   "metadata": {},
   "outputs": [
    {
     "data": {
      "text/plain": [
       "array([7.94328235e-05, 4.88527357e-04, 3.00453853e-03, 1.84784980e-02,\n",
       "       1.13646367e-01, 6.98947321e-01, 4.29866235e+00, 2.64376119e+01,\n",
       "       1.62596469e+02, 1.00000000e+03])"
      ]
     },
     "execution_count": 37,
     "metadata": {},
     "output_type": "execute_result"
    }
   ],
   "source": [
    "np.logspace(-4.1, 3, 10)"
   ]
  },
  {
   "cell_type": "code",
   "execution_count": 27,
   "metadata": {},
   "outputs": [
    {
     "data": {
      "image/png": "[encoded data removed]",
      "text/plain": [
       "<Figure size 640x480 with 1 Axes>"
      ]
     },
     "metadata": {},
     "output_type": "display_data"
    }
   ],
   "source": [
    "epss = np.logspace(-4, 3, 50)\n",
    "vs = []\n",
    "for eps in epss: \n",
    "    v = cpfit._phi_fn(eps, alpha=alpha, h=100).mean()\n",
    "    vs.append(v)\n",
    "\n",
    "plt.plot(epss, vs)\n",
    "plt.xscale(\"log\")"
   ]
  },
  {
   "cell_type": "code",
   "execution_count": 19,
   "metadata": {},
   "outputs": [
    {
     "data": {
      "text/plain": [
       "[-0.743268528144652,\n",
       " -0.7591711307333594,\n",
       " -0.7706160059805884,\n",
       " -0.7788527187262685,\n",
       " -0.7847805628833091,\n",
       " -0.7890467473967884,\n",
       " -0.7921170592721213,\n",
       " -0.7943267187440592,\n",
       " -0.7959169790132482,\n",
       " -0.7970614665523067,\n",
       " -0.7978851378467954,\n",
       " -0.7984779222901802,\n",
       " -0.7989045407799927,\n",
       " -0.7992115720209779,\n",
       " -0.7994325380424525,\n",
       " -0.7995915641726034,\n",
       " -0.7997060130699862,\n",
       " -0.7987883803988671,\n",
       " -0.7978476591204522,\n",
       " -0.7958903213549292,\n",
       " -0.7919210250151789,\n",
       " -0.7869431223632778,\n",
       " -0.7819590260146512,\n",
       " -0.77097047235074,\n",
       " -0.7499787111000867,\n",
       " -0.7279846417868757,\n",
       " -0.6839889119451271,\n",
       " -0.593991987822576,\n",
       " -0.4239942052948029,\n",
       " -0.18299580654859185,\n",
       " 0.050003033465389035,\n",
       " 0.17200218794653704,\n",
       " 0.20000156452565182,\n",
       " 0.20000109567084956,\n",
       " 0.2000007328288316,\n",
       " 0.20000044492533456,\n",
       " 0.20000022161794698,\n",
       " 0.20000007418527485,\n",
       " 0.20000001128944034,\n",
       " 0.2000000003644001,\n",
       " 0.2000000000005666,\n",
       " 0.2,\n",
       " 0.20000000000000004,\n",
       " 0.20000000000000004,\n",
       " 0.20000000000000004,\n",
       " 0.20000000000000004,\n",
       " 0.20000000000000004,\n",
       " 0.20000000000000004,\n",
       " 0.20000000000000004,\n",
       " 0.20000000000000004]"
      ]
     },
     "execution_count": 19,
     "metadata": {},
     "output_type": "execute_result"
    }
   ],
   "source": [
    "vs"
   ]
  },
  {
   "cell_type": "code",
   "execution_count": 16,
   "metadata": {},
   "outputs": [
    {
     "name": "stderr",
     "output_type": "stream",
     "text": [
      "  0%|                                                                                     | 0/50 [00:00<?, ?it/s]"
     ]
    },
    {
     "name": "stderr",
     "output_type": "stream",
     "text": [
      "100%|███████████████████████████████████████████████████████████████████████████| 50/50 [00:00<00:00, 148.28it/s]\n"
     ]
    }
   ],
   "source": [
    "hs = np.logspace(-5, 3, 50)\n",
    "epss = []\n",
    "covprobs = []\n",
    "for h in tqdm(hs):\n",
    "    cpfit.fit(alpha=alpha, h=h, opt_params={\"bds\": (0.01, 1000)})\n",
    "    Rs_test, in_sets = cpfit.predict(fts, Yt)\n",
    "    epss.append(cpfit.eps)\n",
    "    covprobs.append(in_sets.mean())"
   ]
  },
  {
   "cell_type": "code",
   "execution_count": 17,
   "metadata": {},
   "outputs": [
    {
     "data": {
      "image/png": "[encoded data removed]",
      "text/plain": [
       "<Figure size 640x480 with 1 Axes>"
      ]
     },
     "metadata": {},
     "output_type": "display_data"
    }
   ],
   "source": [
    "plt.plot(hs, covprobs)\n",
    "plt.axhline(y=1-alpha, color=\"red\")\n",
    "plt.xscale(\"log\")"
   ]
  },
  {
   "cell_type": "code",
   "execution_count": 88,
   "metadata": {},
   "outputs": [
    {
     "data": {
      "image/png": "[encoded data removed]",
      "text/plain": [
       "<Figure size 640x480 with 1 Axes>"
      ]
     },
     "metadata": {},
     "output_type": "display_data"
    }
   ],
   "source": [
    "plt.plot(hs, epss)\n",
    "plt.xscale(\"log\")"
   ]
  },
  {
   "cell_type": "code",
   "execution_count": null,
   "metadata": {},
   "outputs": [],
   "source": []
  }
 ],
 "metadata": {
  "kernelspec": {
   "display_name": "Python 3 (ipykernel)",
   "language": "python",
   "name": "python3"
  }
 },
 "nbformat": 4,
 "nbformat_minor": 2
}
