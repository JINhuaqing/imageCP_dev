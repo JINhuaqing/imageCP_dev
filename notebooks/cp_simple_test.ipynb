{
 "cells": [
  {
   "cell_type": "markdown",
   "id": "d1416230-327e-4354-81eb-1a96a5450865",
   "metadata": {},
   "source": [
    "This notebook is to test the conformal prediction procedure\n"
   ]
  },
  {
   "cell_type": "code",
   "execution_count": 2,
   "id": "e77e2ef3-a8d9-449c-ac20-d4c365287c68",
   "metadata": {
    "execution": {
     "iopub.execute_input": "2024-05-17T19:51:10.640834Z",
     "iopub.status.busy": "2024-05-17T19:51:10.640235Z",
     "iopub.status.idle": "2024-05-17T19:51:11.074599Z",
     "shell.execute_reply": "2024-05-17T19:51:11.073100Z",
     "shell.execute_reply.started": "2024-05-17T19:51:10.640786Z"
    }
   },
   "outputs": [],
   "source": [
    "import sys\n",
    "sys.path.append(\"./mypkg\")\n",
    "from constants import RES_ROOT, FIG_ROOT, DATA_ROOT"
   ]
  },
  {
   "cell_type": "code",
   "execution_count": 3,
   "id": "4a14c333-3d44-41f6-8372-dfc3a36b7950",
   "metadata": {
    "execution": {
     "iopub.execute_input": "2024-05-17T19:51:12.973245Z",
     "iopub.status.busy": "2024-05-17T19:51:12.972694Z",
     "iopub.status.idle": "2024-05-17T19:51:13.011596Z",
     "shell.execute_reply": "2024-05-17T19:51:13.010502Z",
     "shell.execute_reply.started": "2024-05-17T19:51:12.973201Z"
    }
   },
   "outputs": [],
   "source": [
    "%load_ext autoreload\n",
    "%autoreload 2\n",
    "# 0,1, 2, 3, be careful about the space\n",
    "#"
   ]
  },
  {
   "cell_type": "code",
   "execution_count": 4,
   "id": "80996f82-3c21-4e4c-b6b0-07444b61d6fc",
   "metadata": {
    "execution": {
     "iopub.execute_input": "2024-05-17T19:51:13.486485Z",
     "iopub.status.busy": "2024-05-17T19:51:13.485973Z",
     "iopub.status.idle": "2024-05-17T19:51:19.002324Z",
     "shell.execute_reply": "2024-05-17T19:51:19.000654Z",
     "shell.execute_reply.started": "2024-05-17T19:51:13.486444Z"
    }
   },
   "outputs": [],
   "source": [
    "import time\n",
    "from collections import defaultdict\n",
    "from easydict import EasyDict as edict\n",
    "from pathlib import Path\n",
    "\n",
    "import numpy as np\n",
    "from tqdm import tqdm\n",
    "import matplotlib.pyplot as plt\n",
    "import seaborn as sns\n",
    "from cp_predict.cp_simple import CPSimple\n",
    "\n",
    "from utils.misc import save_pkl, load_pkl"
   ]
  },
  {
   "cell_type": "code",
   "execution_count": 20,
   "id": "d7005b9f",
   "metadata": {},
   "outputs": [
    {
     "name": "stdout",
     "output_type": "stream",
     "text": [
      "Load file /data/rajlab1/user_data/jin/MyResearch/imageCP_dev/mypkg/../data/multicoil_train_mask_type-equispaced_center_fraction-4_acceleration-400/yfgs_ALL_320320.pkl\n",
      "Load file /data/rajlab1/user_data/jin/MyResearch/imageCP_dev/mypkg/../data/multicoil_val_mask_type-equispaced_center_fraction-4_acceleration-400/yfgs_ALL_320320.pkl\n"
     ]
    }
   ],
   "source": [
    "# load data to get eps \n",
    "ys_train, fs_train, gs_train = CPSimple.prepare_data(data_path, size=size, data_type=data_type, verbose=True);\n",
    "\n",
    "# load data for test\n",
    "ys_test, fs_test, gs_test= CPSimple.prepare_data(data_val_path, size=size, data_type=data_type, verbose=True);"
   ]
  },
  {
   "cell_type": "code",
   "execution_count": 21,
   "id": "e2d941d4",
   "metadata": {},
   "outputs": [
    {
     "data": {
      "text/plain": [
       "((4492, 320, 320), (4178, 320, 320))"
      ]
     },
     "execution_count": 21,
     "metadata": {},
     "output_type": "execute_result"
    }
   ],
   "source": [
    "ys_test.shape, ys_train.shape"
   ]
  },
  {
   "cell_type": "code",
   "execution_count": 23,
   "id": "d8d3492e",
   "metadata": {},
   "outputs": [],
   "source": [
    "if is_quick:\n",
    "    train_idxs = np.sort(np.random.choice(len(ys_train), 1000, replace=False))\n",
    "else:\n",
    "    train_idxs = np.arange(len(ys_train))\n",
    "\n",
    "\n",
    "ys_train = ys_train[train_idxs]\n",
    "fs_train = fs_train[train_idxs]\n",
    "gs_train = gs_train[train_idxs];"
   ]
  },
  {
   "cell_type": "code",
   "execution_count": 24,
   "id": "17ecdcac",
   "metadata": {},
   "outputs": [
    {
     "data": {
      "text/plain": [
       "<cp_predict.cp_simple.CPSimple at 0x7f7bff074130>"
      ]
     },
     "execution_count": 24,
     "metadata": {},
     "output_type": "execute_result"
    }
   ],
   "source": [
    "cpfit = CPSimple(ys_train, fs_train, gs_train, kernel_fn=None, verbose=2)"
   ]
  },
  {
   "cell_type": "code",
   "execution_count": 25,
   "id": "0721c3b4",
   "metadata": {},
   "outputs": [
    {
     "name": "stdout",
     "output_type": "stream",
     "text": [
      "472.09761047363264 0.9523597506678539\n"
     ]
    }
   ],
   "source": [
    "eps_naive = cpfit.fit_root_naive(alpha=alpha)\n",
    "cpfit.eps = eps_naive\n",
    "in_sets = cpfit.in_set(fs_test, ys_test);\n",
    "print(cpfit.eps, in_sets.mean())"
   ]
  },
  {
   "cell_type": "code",
   "execution_count": 26,
   "id": "fbd9ebdc",
   "metadata": {},
   "outputs": [
    {
     "name": "stdout",
     "output_type": "stream",
     "text": [
      "584.2308654785144 0.9897595725734639\n"
     ]
    }
   ],
   "source": [
    "cpfit.fit_root(alpha=alpha, h=1)\n",
    "in_sets = cpfit.in_set(fs_test, ys_test);\n",
    "print(cpfit.eps, in_sets.mean())"
   ]
  },
  {
   "cell_type": "code",
   "execution_count": null,
   "id": "0f2912b3",
   "metadata": {},
   "outputs": [],
   "source": []
  }
 ],
 "metadata": {
  "kernelspec": {
   "display_name": "Python 3 (ipykernel)",
   "language": "python",
   "name": "python3"
  },
  "language_info": {
   "codemirror_mode": {
    "name": "ipython",
    "version": 3
   },
   "file_extension": ".py",
   "mimetype": "text/x-python",
   "name": "python",
   "nbconvert_exporter": "python",
   "pygments_lexer": "ipython3",
   "version": "3.9.19"
  }
 },
 "nbformat": 4,
 "nbformat_minor": 5
}
