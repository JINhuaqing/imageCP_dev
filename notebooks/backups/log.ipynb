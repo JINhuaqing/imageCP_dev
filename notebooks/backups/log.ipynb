{
 "cells": [
  {
   "cell_type": "code",
   "execution_count": null,
   "metadata": {},
   "outputs": [],
   "source": [
    "%load_ext tensorboard\n",
    "%tensorboard --logdir /path/to/logs --port 6006"
   ]
  }
 ],
 "metadata": {
  "kernelspec": {
   "display_name": "SSH titan.radiology.ucsf.edu titan-imageCP",
   "language": "",
   "name": "rik_ssh_titan_radiology_ucsf_edu_titanimagecp"
  },
  "language_info": {
   "name": "python"
  }
 },
 "nbformat": 4,
 "nbformat_minor": 2
}
